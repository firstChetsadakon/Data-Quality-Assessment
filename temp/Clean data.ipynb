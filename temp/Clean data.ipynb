{
 "cells": [
  {
   "cell_type": "code",
   "execution_count": 1,
   "metadata": {},
   "outputs": [],
   "source": [
    "\n",
    "import pandas as pd\n"
   ]
  },
  {
   "cell_type": "markdown",
   "metadata": {},
   "source": [
    "Check ค่า null"
   ]
  },
  {
   "cell_type": "code",
   "execution_count": 2,
   "metadata": {},
   "outputs": [
    {
     "data": {
      "text/plain": [
       "Transaction ID         0\n",
       "Customer ID            0\n",
       "Category               0\n",
       "Item                1213\n",
       "Price Per Unit       609\n",
       "Quantity             604\n",
       "Total Spent          604\n",
       "Payment Method         0\n",
       "Location               0\n",
       "Transaction Date       0\n",
       "Discount Applied    4199\n",
       "dtype: int64"
      ]
     },
     "execution_count": 2,
     "metadata": {},
     "output_type": "execute_result"
    }
   ],
   "source": [
    "data = pd.read_csv(\"retail_store_sales.csv\")\n",
    "data.isnull().sum()"
   ]
  },
  {
   "cell_type": "markdown",
   "metadata": {},
   "source": [
    "Check ว่ามีสินค้า (Item) ใดบ้างที่มีราคาต่อหน่วย (Price Per Unit) แตกต่างกันหรือไม่"
   ]
  },
  {
   "cell_type": "code",
   "execution_count": 3,
   "metadata": {},
   "outputs": [
    {
     "data": {
      "text/plain": [
       "Series([], Name: Price Per Unit, dtype: int64)"
      ]
     },
     "execution_count": 3,
     "metadata": {},
     "output_type": "execute_result"
    }
   ],
   "source": [
    "check=data.groupby(\"Item\")[\"Price Per Unit\"].nunique()\n",
    "check[check>1]"
   ]
  },
  {
   "cell_type": "markdown",
   "metadata": {},
   "source": [
    "Check ราคาต่อหน่วย (Price Per Unit) และหมวดหมู่ (Category) ใดบ้างที่มีสินค้ามากกว่าหนึ่งชนิด (Item)"
   ]
  },
  {
   "cell_type": "code",
   "execution_count": 4,
   "metadata": {},
   "outputs": [
    {
     "data": {
      "text/plain": [
       "Series([], Name: Item, dtype: int64)"
      ]
     },
     "execution_count": 4,
     "metadata": {},
     "output_type": "execute_result"
    }
   ],
   "source": [
    "check=data.groupby([\"Price Per Unit\",\"Category\"])[\"Item\"].nunique()\n",
    "check[check>1]"
   ]
  },
  {
   "cell_type": "markdown",
   "metadata": {},
   "source": [
    "เติมคอลัม item\n",
    "ของ 1 ชิ้นมี 1 ราคาในแต่ละ item\n",
    "แสดงว่าเติมคอลัมด้วยวิธีนี้ได้"
   ]
  },
  {
   "cell_type": "code",
   "execution_count": 5,
   "metadata": {},
   "outputs": [
    {
     "data": {
      "text/plain": [
       "array(['Item_3_BUT', 'Item_3_FOOD', 'Item_3_MILK', 'Item_3_BEV',\n",
       "       'Item_3_FUR', 'Item_3_CEA', nan, 'Item_3_PAT', 'Item_3_EHE'],\n",
       "      dtype=object)"
      ]
     },
     "execution_count": 5,
     "metadata": {},
     "output_type": "execute_result"
    }
   ],
   "source": [
    "data[data[\"Price Per Unit\"]==8][\"Item\"].unique()"
   ]
  },
  {
   "cell_type": "markdown",
   "metadata": {},
   "source": [
    "เติม Price per unit จากจำนวนกับ total spent กับ Quantity"
   ]
  },
  {
   "cell_type": "code",
   "execution_count": 6,
   "metadata": {},
   "outputs": [
    {
     "data": {
      "text/plain": [
       "Transaction ID        0\n",
       "Customer ID           0\n",
       "Category              0\n",
       "Item                609\n",
       "Price Per Unit      609\n",
       "Quantity              0\n",
       "Total Spent           0\n",
       "Payment Method        0\n",
       "Location              0\n",
       "Transaction Date      0\n",
       "Discount Applied    205\n",
       "dtype: int64"
      ]
     },
     "execution_count": 6,
     "metadata": {},
     "output_type": "execute_result"
    }
   ],
   "source": [
    "data[data[\"Price Per Unit\"].isnull()].isnull().sum()"
   ]
  },
  {
   "cell_type": "markdown",
   "metadata": {},
   "source": [
    "เติม Price per unit"
   ]
  },
  {
   "cell_type": "code",
   "execution_count": 17,
   "metadata": {},
   "outputs": [
    {
     "data": {
      "text/plain": [
       "Transaction ID         0\n",
       "Customer ID            0\n",
       "Category               0\n",
       "Item                 609\n",
       "Price Per Unit         0\n",
       "Quantity             604\n",
       "Total Spent          604\n",
       "Payment Method         0\n",
       "Location               0\n",
       "Transaction Date       0\n",
       "Discount Applied    4199\n",
       "dtype: int64"
      ]
     },
     "execution_count": 17,
     "metadata": {},
     "output_type": "execute_result"
    }
   ],
   "source": [
    "data.loc[data['Price Per Unit'].isna(), 'Price Per Unit'] = data['Total Spent'] / data['Quantity']\n",
    "data.isnull().sum()"
   ]
  },
  {
   "cell_type": "code",
   "execution_count": 18,
   "metadata": {},
   "outputs": [
    {
     "name": "stdout",
     "output_type": "stream",
     "text": [
      "      Transaction ID Customer ID       Category          Item  Price Per Unit  \\\n",
      "0        TXN_6867343     CUST_09     Patisserie   Item_10_PAT            18.5   \n",
      "1        TXN_3731986     CUST_22  Milk Products  Item_17_MILK            29.0   \n",
      "2        TXN_9303719     CUST_02       Butchers   Item_12_BUT            21.5   \n",
      "3        TXN_9458126     CUST_06      Beverages   Item_16_BEV            27.5   \n",
      "4        TXN_4575373     CUST_05           Food   Item_6_FOOD            12.5   \n",
      "...              ...         ...            ...           ...             ...   \n",
      "12570    TXN_9347481     CUST_18     Patisserie   Item_23_PAT            38.0   \n",
      "12571    TXN_4009414     CUST_03      Beverages    Item_2_BEV             6.5   \n",
      "12572    TXN_5306010     CUST_11       Butchers    Item_7_BUT            14.0   \n",
      "12573    TXN_5167298     CUST_04      Furniture    Item_7_FUR            14.0   \n",
      "12574    TXN_2407494     CUST_23           Food   Item_9_FOOD            17.0   \n",
      "\n",
      "       Quantity  Total Spent  Payment Method  Location Transaction Date  \\\n",
      "0          10.0        185.0  Digital Wallet    Online       2024-04-08   \n",
      "1           9.0        261.0  Digital Wallet    Online       2023-07-23   \n",
      "2           2.0         43.0     Credit Card    Online       2022-10-05   \n",
      "3           9.0        247.5     Credit Card    Online       2022-05-07   \n",
      "4           7.0         87.5  Digital Wallet    Online       2022-10-02   \n",
      "...         ...          ...             ...       ...              ...   \n",
      "12570       4.0        152.0     Credit Card  In-store       2023-09-03   \n",
      "12571       9.0         58.5            Cash    Online       2022-08-12   \n",
      "12572      10.0        140.0            Cash    Online       2024-08-24   \n",
      "12573       6.0         84.0            Cash    Online       2023-12-30   \n",
      "12574       3.0         51.0            Cash    Online       2022-08-06   \n",
      "\n",
      "      Discount Applied  \n",
      "0                 True  \n",
      "1                 True  \n",
      "2                False  \n",
      "3                  NaN  \n",
      "4                False  \n",
      "...                ...  \n",
      "12570              NaN  \n",
      "12571            False  \n",
      "12572              NaN  \n",
      "12573             True  \n",
      "12574              NaN  \n",
      "\n",
      "[12575 rows x 11 columns]\n"
     ]
    }
   ],
   "source": [
    "print(data)"
   ]
  },
  {
   "cell_type": "markdown",
   "metadata": {},
   "source": [
    "เติม Item จาก Price per unit ที่เติมแล้ว"
   ]
  },
  {
   "cell_type": "code",
   "execution_count": 19,
   "metadata": {},
   "outputs": [
    {
     "data": {
      "text/plain": [
       "Transaction ID         0\n",
       "Customer ID            0\n",
       "Category               0\n",
       "Item                   0\n",
       "Price Per Unit         0\n",
       "Quantity             604\n",
       "Total Spent          604\n",
       "Payment Method         0\n",
       "Location               0\n",
       "Transaction Date       0\n",
       "Discount Applied    4199\n",
       "dtype: int64"
      ]
     },
     "execution_count": 19,
     "metadata": {},
     "output_type": "execute_result"
    }
   ],
   "source": [
    "# สร้าง mapping ของ Item ตาม Price Per U (เลือก Item แรกที่เจอในข้อมูล)\n",
    "price_to_item = data.dropna(subset=['Item']).groupby('Price Per Unit')['Item'].first().to_dict()\n",
    "\n",
    "# เติมค่าที่ขาดในคอลัมน์ Item โดยใช้ Price Per U\n",
    "data['Item'] = data['Item'].fillna(data['Price Per Unit'].map(price_to_item))\n",
    "\n",
    "data.isnull().sum()"
   ]
  },
  {
   "cell_type": "markdown",
   "metadata": {},
   "source": [
    "ดูค่า mean กับ median"
   ]
  },
  {
   "cell_type": "code",
   "execution_count": 28,
   "metadata": {},
   "outputs": [
    {
     "name": "stdout",
     "output_type": "stream",
     "text": [
      "Mean Quantity per Item:\n",
      " Item\n",
      "Item_10_BEV     6.782609\n",
      "Item_10_BUT     5.875000\n",
      "Item_10_CEA     5.369863\n",
      "Item_10_EHE     5.024390\n",
      "Item_10_FOOD    5.107143\n",
      "                  ...   \n",
      "Item_9_EHE      5.915254\n",
      "Item_9_FOOD     5.859155\n",
      "Item_9_FUR      5.714286\n",
      "Item_9_MILK     4.900000\n",
      "Item_9_PAT      5.722222\n",
      "Name: Quantity, Length: 200, dtype: float64\n",
      "\n",
      "Median Quantity per Item:\n",
      " Item\n",
      "Item_10_BEV     8.000000\n",
      "Item_10_BUT     6.000000\n",
      "Item_10_CEA     5.000000\n",
      "Item_10_EHE     5.000000\n",
      "Item_10_FOOD    5.000000\n",
      "                  ...   \n",
      "Item_9_EHE      7.000000\n",
      "Item_9_FOOD     5.859155\n",
      "Item_9_FUR      6.000000\n",
      "Item_9_MILK     4.000000\n",
      "Item_9_PAT      6.000000\n",
      "Name: Quantity, Length: 200, dtype: float64\n"
     ]
    }
   ],
   "source": [
    "mean_quantity = data.groupby(\"Item\")[\"Quantity\"].mean()\n",
    "median_quantity = data.groupby(\"Item\")[\"Quantity\"].median()\n",
    "\n",
    "# แสดงผลลัพธ์\n",
    "print(\"Mean Quantity per Item:\\n\", mean_quantity)\n",
    "print(\"\\nMedian Quantity per Item:\\n\", median_quantity)"
   ]
  },
  {
   "cell_type": "markdown",
   "metadata": {},
   "source": [
    "Check outlier"
   ]
  },
  {
   "cell_type": "code",
   "execution_count": 29,
   "metadata": {},
   "outputs": [
    {
     "name": "stdout",
     "output_type": "stream",
     "text": [
      "Q1: 3.0, Q3: 8.0, IQR: 5.0\n",
      "Lower Bound: -4.5, Upper Bound: 15.5\n",
      "พบ Outliers จำนวน 0 รายการ:\n",
      " Empty DataFrame\n",
      "Columns: [Transaction ID, Customer ID, Category, Item, Price Per Unit, Quantity, Total Spent, Payment Method, Location, Transaction Date, Discount Applied]\n",
      "Index: []\n"
     ]
    }
   ],
   "source": [
    "# คำนวณ IQR (Interquartile Range)\n",
    "Q1 = data[\"Quantity\"].quantile(0.25)  # ค่าของ Quartile ที่ 1 (25%)\n",
    "Q3 = data[\"Quantity\"].quantile(0.75)  # ค่าของ Quartile ที่ 3 (75%)\n",
    "IQR = Q3 - Q1  # ช่วง Interquartile Range\n",
    "\n",
    "# กำหนดช่วงที่ไม่มี Outliers\n",
    "lower_bound = Q1 - 1.5 * IQR\n",
    "upper_bound = Q3 + 1.5 * IQR\n",
    "\n",
    "# ตรวจสอบว่ามีค่าไหนที่เป็น outlier บ้าง\n",
    "outliers = data[(data[\"Quantity\"] < lower_bound) | (data[\"Quantity\"] > upper_bound)]\n",
    "\n",
    "# แสดงผลลัพธ์\n",
    "print(f\"Q1: {Q1}, Q3: {Q3}, IQR: {IQR}\")\n",
    "print(f\"Lower Bound: {lower_bound}, Upper Bound: {upper_bound}\")\n",
    "print(f\"พบ Outliers จำนวน {len(outliers)} รายการ:\\n\", outliers)"
   ]
  },
  {
   "cell_type": "markdown",
   "metadata": {},
   "source": [
    "เติมค่า Quantity จาก Item โดยหาค่าเฉลี่ย mean ของแต่ละหมวดหมู่"
   ]
  },
  {
   "cell_type": "code",
   "execution_count": 23,
   "metadata": {},
   "outputs": [
    {
     "data": {
      "text/plain": [
       "Transaction ID         0\n",
       "Customer ID            0\n",
       "Category               0\n",
       "Item                   0\n",
       "Price Per Unit         0\n",
       "Quantity               0\n",
       "Total Spent          604\n",
       "Payment Method         0\n",
       "Location               0\n",
       "Transaction Date       0\n",
       "Discount Applied    4199\n",
       "dtype: int64"
      ]
     },
     "execution_count": 23,
     "metadata": {},
     "output_type": "execute_result"
    }
   ],
   "source": [
    "data['Quantity'] = data.groupby('Item')['Quantity'].transform(lambda x: x.fillna(x.mean()))\n",
    "data.isnull().sum()"
   ]
  },
  {
   "cell_type": "markdown",
   "metadata": {},
   "source": [
    "เติมค่า Total spent จาก Price per unit * Quantity"
   ]
  },
  {
   "cell_type": "code",
   "execution_count": 32,
   "metadata": {},
   "outputs": [
    {
     "name": "stdout",
     "output_type": "stream",
     "text": [
      "       Price Per Unit  Quantity  Total Spent\n",
      "0                18.5      10.0        185.0\n",
      "1                29.0       9.0        261.0\n",
      "2                21.5       2.0         43.0\n",
      "3                27.5       9.0        247.5\n",
      "4                12.5       7.0         87.5\n",
      "...               ...       ...          ...\n",
      "12570            38.0       4.0        152.0\n",
      "12571             6.5       9.0         58.5\n",
      "12572            14.0      10.0        140.0\n",
      "12573            14.0       6.0         84.0\n",
      "12574            17.0       3.0         51.0\n",
      "\n",
      "[12575 rows x 3 columns]\n"
     ]
    }
   ],
   "source": [
    "# คำนวณ Total Spent\n",
    "data[\"Total Spent\"] = data[\"Price Per Unit\"] * data[\"Quantity\"]\n",
    "\n",
    "print(data[[\"Price Per Unit\", \"Quantity\", \"Total Spent\"]])"
   ]
  },
  {
   "cell_type": "code",
   "execution_count": 33,
   "metadata": {},
   "outputs": [
    {
     "data": {
      "text/plain": [
       "Transaction ID         0\n",
       "Customer ID            0\n",
       "Category               0\n",
       "Item                   0\n",
       "Price Per Unit         0\n",
       "Quantity               0\n",
       "Total Spent            0\n",
       "Payment Method         0\n",
       "Location               0\n",
       "Transaction Date       0\n",
       "Discount Applied    4199\n",
       "dtype: int64"
      ]
     },
     "execution_count": 33,
     "metadata": {},
     "output_type": "execute_result"
    }
   ],
   "source": [
    "data.isnull().sum()"
   ]
  },
  {
   "cell_type": "markdown",
   "metadata": {},
   "source": [
    "เติม discount"
   ]
  },
  {
   "cell_type": "code",
   "execution_count": 34,
   "metadata": {},
   "outputs": [
    {
     "name": "stdout",
     "output_type": "stream",
     "text": [
      "       Discount Applied\n",
      "0                  True\n",
      "1                  True\n",
      "2                 False\n",
      "3                 False\n",
      "4                 False\n",
      "...                 ...\n",
      "12570             False\n",
      "12571             False\n",
      "12572             False\n",
      "12573              True\n",
      "12574             False\n",
      "\n",
      "[12575 rows x 1 columns]\n"
     ]
    }
   ],
   "source": [
    "# เติมค่า missing ใน Discount Applied เป็น False\n",
    "data[\"Discount Applied\"] = data[\"Discount Applied\"].fillna(False)\n",
    "\n",
    "print(data[[\"Discount Applied\"]])"
   ]
  },
  {
   "cell_type": "code",
   "execution_count": 35,
   "metadata": {},
   "outputs": [
    {
     "data": {
      "text/plain": [
       "Transaction ID      0\n",
       "Customer ID         0\n",
       "Category            0\n",
       "Item                0\n",
       "Price Per Unit      0\n",
       "Quantity            0\n",
       "Total Spent         0\n",
       "Payment Method      0\n",
       "Location            0\n",
       "Transaction Date    0\n",
       "Discount Applied    0\n",
       "dtype: int64"
      ]
     },
     "execution_count": 35,
     "metadata": {},
     "output_type": "execute_result"
    }
   ],
   "source": [
    "data.isnull().sum()"
   ]
  }
 ],
 "metadata": {
  "kernelspec": {
   "display_name": "python3.8",
   "language": "python",
   "name": "python3"
  },
  "language_info": {
   "codemirror_mode": {
    "name": "ipython",
    "version": 3
   },
   "file_extension": ".py",
   "mimetype": "text/x-python",
   "name": "python",
   "nbconvert_exporter": "python",
   "pygments_lexer": "ipython3",
   "version": "3.8.19"
  }
 },
 "nbformat": 4,
 "nbformat_minor": 2
}
